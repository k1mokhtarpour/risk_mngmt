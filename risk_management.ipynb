{
  "nbformat": 4,
  "nbformat_minor": 0,
  "metadata": {
    "colab": {
      "name": "german_data_ml.ipynb",
      "provenance": [],
      "collapsed_sections": []
    },
    "kernelspec": {
      "name": "python3",
      "display_name": "Python 3"
    }
  },
  "cells": [
    {
      "cell_type": "code",
      "metadata": {
        "id": "AS9feqmzYYVK"
      },
      "source": [
        "import pandas as pd\r\n",
        "import numpy as np\r\n",
        "import tensorflow as tf\r\n",
        "import matplotlib.pyplot as plt\r\n",
        "import seaborn as sns\r\n",
        "from sklearn.preprocessing import LabelEncoder\r\n",
        "from sklearn.model_selection import train_test_split\r\n",
        "from sklearn.metrics import accuracy_score, confusion_matrix, classification_report\r\n",
        "\r\n",
        "import warnings\r\n",
        "warnings.filterwarnings ('ignore')"
      ],
      "execution_count": null,
      "outputs": []
    },
    {
      "cell_type": "code",
      "metadata": {
        "colab": {
          "base_uri": "https://localhost:8080/",
          "height": 35
        },
        "id": "aQnduGi2Y1NU",
        "outputId": "7e79a182-71be-463f-f25c-73d573a256ef"
      },
      "source": [
        "tf.__version__"
      ],
      "execution_count": null,
      "outputs": [
        {
          "output_type": "execute_result",
          "data": {
            "application/vnd.google.colaboratory.intrinsic+json": {
              "type": "string"
            },
            "text/plain": [
              "'2.4.1'"
            ]
          },
          "metadata": {
            "tags": []
          },
          "execution_count": 2
        }
      ]
    },
    {
      "cell_type": "code",
      "metadata": {
        "id": "fqiHew66Y96F"
      },
      "source": [
        "dataframe = pd.read_csv ('converted_data.csv')"
      ],
      "execution_count": null,
      "outputs": []
    },
    {
      "cell_type": "code",
      "metadata": {
        "colab": {
          "base_uri": "https://localhost:8080/",
          "height": 204
        },
        "id": "YcBNYnRGZC7V",
        "outputId": "eeae5410-8a64-446a-8c7b-00f9345760aa"
      },
      "source": [
        "dataframe.head()"
      ],
      "execution_count": null,
      "outputs": [
        {
          "output_type": "execute_result",
          "data": {
            "text/html": [
              "<div>\n",
              "<style scoped>\n",
              "    .dataframe tbody tr th:only-of-type {\n",
              "        vertical-align: middle;\n",
              "    }\n",
              "\n",
              "    .dataframe tbody tr th {\n",
              "        vertical-align: top;\n",
              "    }\n",
              "\n",
              "    .dataframe thead th {\n",
              "        text-align: right;\n",
              "    }\n",
              "</style>\n",
              "<table border=\"1\" class=\"dataframe\">\n",
              "  <thead>\n",
              "    <tr style=\"text-align: right;\">\n",
              "      <th></th>\n",
              "      <th>Unnamed: 0</th>\n",
              "      <th>Compatibility</th>\n",
              "      <th>Quality</th>\n",
              "      <th>Tech_generation</th>\n",
              "      <th>Upgrade</th>\n",
              "      <th>Manufacturing</th>\n",
              "      <th>Maintenance</th>\n",
              "      <th>Product_Value</th>\n",
              "      <th>Durability</th>\n",
              "      <th>Product</th>\n",
              "      <th>Risk</th>\n",
              "    </tr>\n",
              "  </thead>\n",
              "  <tbody>\n",
              "    <tr>\n",
              "      <th>0</th>\n",
              "      <td>0</td>\n",
              "      <td>67</td>\n",
              "      <td>high</td>\n",
              "      <td>2</td>\n",
              "      <td>easy</td>\n",
              "      <td>NaN</td>\n",
              "      <td>easy</td>\n",
              "      <td>1169</td>\n",
              "      <td>6</td>\n",
              "      <td>metal_powder</td>\n",
              "      <td>good</td>\n",
              "    </tr>\n",
              "    <tr>\n",
              "      <th>1</th>\n",
              "      <td>1</td>\n",
              "      <td>22</td>\n",
              "      <td>low</td>\n",
              "      <td>2</td>\n",
              "      <td>easy</td>\n",
              "      <td>easy</td>\n",
              "      <td>normal</td>\n",
              "      <td>5951</td>\n",
              "      <td>48</td>\n",
              "      <td>metal_powder</td>\n",
              "      <td>bad</td>\n",
              "    </tr>\n",
              "    <tr>\n",
              "      <th>2</th>\n",
              "      <td>2</td>\n",
              "      <td>49</td>\n",
              "      <td>high</td>\n",
              "      <td>1</td>\n",
              "      <td>easy</td>\n",
              "      <td>easy</td>\n",
              "      <td>NaN</td>\n",
              "      <td>2096</td>\n",
              "      <td>12</td>\n",
              "      <td>process_dev</td>\n",
              "      <td>good</td>\n",
              "    </tr>\n",
              "    <tr>\n",
              "      <th>3</th>\n",
              "      <td>3</td>\n",
              "      <td>45</td>\n",
              "      <td>high</td>\n",
              "      <td>2</td>\n",
              "      <td>normal</td>\n",
              "      <td>easy</td>\n",
              "      <td>easy</td>\n",
              "      <td>7882</td>\n",
              "      <td>42</td>\n",
              "      <td>waste_mngmt</td>\n",
              "      <td>good</td>\n",
              "    </tr>\n",
              "    <tr>\n",
              "      <th>4</th>\n",
              "      <td>4</td>\n",
              "      <td>53</td>\n",
              "      <td>high</td>\n",
              "      <td>2</td>\n",
              "      <td>normal</td>\n",
              "      <td>easy</td>\n",
              "      <td>easy</td>\n",
              "      <td>4870</td>\n",
              "      <td>24</td>\n",
              "      <td>plasma_torch</td>\n",
              "      <td>bad</td>\n",
              "    </tr>\n",
              "  </tbody>\n",
              "</table>\n",
              "</div>"
            ],
            "text/plain": [
              "   Unnamed: 0  Compatibility Quality  ...  Durability       Product  Risk\n",
              "0           0             67    high  ...           6  metal_powder  good\n",
              "1           1             22     low  ...          48  metal_powder   bad\n",
              "2           2             49    high  ...          12   process_dev  good\n",
              "3           3             45    high  ...          42   waste_mngmt  good\n",
              "4           4             53    high  ...          24  plasma_torch   bad\n",
              "\n",
              "[5 rows x 11 columns]"
            ]
          },
          "metadata": {
            "tags": []
          },
          "execution_count": 4
        }
      ]
    },
    {
      "cell_type": "code",
      "metadata": {
        "colab": {
          "base_uri": "https://localhost:8080/"
        },
        "id": "xF4HaDhaZLdD",
        "outputId": "c102f5ee-680f-4745-a0c2-2eb305c4f5b1"
      },
      "source": [
        "dataframe.info()"
      ],
      "execution_count": null,
      "outputs": [
        {
          "output_type": "stream",
          "text": [
            "<class 'pandas.core.frame.DataFrame'>\n",
            "RangeIndex: 1000 entries, 0 to 999\n",
            "Data columns (total 11 columns):\n",
            " #   Column           Non-Null Count  Dtype \n",
            "---  ------           --------------  ----- \n",
            " 0   Unnamed: 0       1000 non-null   int64 \n",
            " 1   Compatibility    1000 non-null   int64 \n",
            " 2   Quality          1000 non-null   object\n",
            " 3   Tech_generation  1000 non-null   int64 \n",
            " 4   Upgrade          1000 non-null   object\n",
            " 5   Manufacturing    817 non-null    object\n",
            " 6   Maintenance      606 non-null    object\n",
            " 7   Product_Value    1000 non-null   int64 \n",
            " 8   Durability       1000 non-null   int64 \n",
            " 9   Product          1000 non-null   object\n",
            " 10  Risk             1000 non-null   object\n",
            "dtypes: int64(5), object(6)\n",
            "memory usage: 86.1+ KB\n"
          ],
          "name": "stdout"
        }
      ]
    },
    {
      "cell_type": "code",
      "metadata": {
        "colab": {
          "base_uri": "https://localhost:8080/"
        },
        "id": "-kXzua2pZMoH",
        "outputId": "6d878c9b-8c17-4a73-a9e0-c768e10d9781"
      },
      "source": [
        "print ('Unique value of Quality\\n', dataframe['Quality'].unique())\r\n",
        "print ('Unique value of Tech generation\\n', dataframe['Tech_generation'].unique())\r\n",
        "print ('Unique value of Upgrade level\\n', dataframe['Upgrade'].unique())\r\n",
        "print ('Unique value of Manufacturing level\\n', dataframe['Manufacturing'].unique())\r\n",
        "print ('Unique value of Maintenance\\n', dataframe['Maintenance'].unique())\r\n",
        "print ('Unique value of Products\\n', dataframe['Product'].unique())"
      ],
      "execution_count": null,
      "outputs": [
        {
          "output_type": "stream",
          "text": [
            "Unique value of Quality\n",
            " ['high' 'low']\n",
            "Unique value of Tech generation\n",
            " [2 1 3 0]\n",
            "Unique value of Upgrade level\n",
            " ['easy' 'normal' 'hard']\n",
            "Unique value of Manufacturing level\n",
            " [nan 'easy' 'quite hard' 'hard' 'normal']\n",
            "Unique value of Maintenance\n",
            " ['easy' 'normal' nan 'hard']\n",
            "Unique value of Products\n",
            " ['metal_powder' 'process_dev' 'waste_mngmt' 'plasma_torch' 'drosrite'\n",
            " 'other3' 'other2' 'other1']\n"
          ],
          "name": "stdout"
        }
      ]
    },
    {
      "cell_type": "code",
      "metadata": {
        "colab": {
          "base_uri": "https://localhost:8080/",
          "height": 297
        },
        "id": "S94okiZbZQYP",
        "outputId": "f4f8dc34-d379-4c9d-d397-143ca7329e6d"
      },
      "source": [
        "dataframe[['Compatibility', 'Durability','Product_Value']].describe()"
      ],
      "execution_count": null,
      "outputs": [
        {
          "output_type": "execute_result",
          "data": {
            "text/html": [
              "<div>\n",
              "<style scoped>\n",
              "    .dataframe tbody tr th:only-of-type {\n",
              "        vertical-align: middle;\n",
              "    }\n",
              "\n",
              "    .dataframe tbody tr th {\n",
              "        vertical-align: top;\n",
              "    }\n",
              "\n",
              "    .dataframe thead th {\n",
              "        text-align: right;\n",
              "    }\n",
              "</style>\n",
              "<table border=\"1\" class=\"dataframe\">\n",
              "  <thead>\n",
              "    <tr style=\"text-align: right;\">\n",
              "      <th></th>\n",
              "      <th>Compatibility</th>\n",
              "      <th>Durability</th>\n",
              "      <th>Product_Value</th>\n",
              "    </tr>\n",
              "  </thead>\n",
              "  <tbody>\n",
              "    <tr>\n",
              "      <th>count</th>\n",
              "      <td>1000.000000</td>\n",
              "      <td>1000.000000</td>\n",
              "      <td>1000.000000</td>\n",
              "    </tr>\n",
              "    <tr>\n",
              "      <th>mean</th>\n",
              "      <td>35.546000</td>\n",
              "      <td>20.903000</td>\n",
              "      <td>3271.258000</td>\n",
              "    </tr>\n",
              "    <tr>\n",
              "      <th>std</th>\n",
              "      <td>11.375469</td>\n",
              "      <td>12.058814</td>\n",
              "      <td>2822.736876</td>\n",
              "    </tr>\n",
              "    <tr>\n",
              "      <th>min</th>\n",
              "      <td>19.000000</td>\n",
              "      <td>4.000000</td>\n",
              "      <td>250.000000</td>\n",
              "    </tr>\n",
              "    <tr>\n",
              "      <th>25%</th>\n",
              "      <td>27.000000</td>\n",
              "      <td>12.000000</td>\n",
              "      <td>1365.500000</td>\n",
              "    </tr>\n",
              "    <tr>\n",
              "      <th>50%</th>\n",
              "      <td>33.000000</td>\n",
              "      <td>18.000000</td>\n",
              "      <td>2319.500000</td>\n",
              "    </tr>\n",
              "    <tr>\n",
              "      <th>75%</th>\n",
              "      <td>42.000000</td>\n",
              "      <td>24.000000</td>\n",
              "      <td>3972.250000</td>\n",
              "    </tr>\n",
              "    <tr>\n",
              "      <th>max</th>\n",
              "      <td>75.000000</td>\n",
              "      <td>72.000000</td>\n",
              "      <td>18424.000000</td>\n",
              "    </tr>\n",
              "  </tbody>\n",
              "</table>\n",
              "</div>"
            ],
            "text/plain": [
              "       Compatibility   Durability  Product_Value\n",
              "count    1000.000000  1000.000000    1000.000000\n",
              "mean       35.546000    20.903000    3271.258000\n",
              "std        11.375469    12.058814    2822.736876\n",
              "min        19.000000     4.000000     250.000000\n",
              "25%        27.000000    12.000000    1365.500000\n",
              "50%        33.000000    18.000000    2319.500000\n",
              "75%        42.000000    24.000000    3972.250000\n",
              "max        75.000000    72.000000   18424.000000"
            ]
          },
          "metadata": {
            "tags": []
          },
          "execution_count": 8
        }
      ]
    },
    {
      "cell_type": "code",
      "metadata": {
        "colab": {
          "base_uri": "https://localhost:8080/",
          "height": 359
        },
        "id": "rGQ4RlQCZVSo",
        "outputId": "cf809b4a-97a3-4595-a9e3-85036a5917bb"
      },
      "source": [
        "#Check distribution of target\r\n",
        "sns.set_style (style = \"whitegrid\")\r\n",
        "plt.figure(figsize = (10, 5))\r\n",
        "sns.countplot(dataframe['Risk'])\r\n",
        "plt.title('Distribution of Target', color = 'blue', loc = 'center', fontsize = 20)\r\n",
        "plt.xlabel('Category of Risk', color = 'black', fontsize = 14)\r\n",
        "plt.ylabel('Count', color = 'black', fontsize = 14)\r\n",
        "plt.show()"
      ],
      "execution_count": null,
      "outputs": [
        {
          "output_type": "display_data",
          "data": {
            "image/png": "[encoded data removed]",
            "text/plain": [
              "<Figure size 720x360 with 1 Axes>"
            ]
          },
          "metadata": {
            "tags": []
          }
        }
      ]
    },
    {
      "cell_type": "code",
      "metadata": {
        "colab": {
          "base_uri": "https://localhost:8080/",
          "height": 390
        },
        "id": "FWBbGv4_ZWZf",
        "outputId": "998d6807-6e6c-4d13-b220-d1af5f124667"
      },
      "source": [
        "#Check Distribution of numeric features\r\n",
        "numeric_features = ['Compatibility', 'Durability','Product_Value']\r\n",
        "fig, ax = plt.subplots(1, 3, figsize=(15, 6))\r\n",
        "dataframe[numeric_features][dataframe['Risk'] == \"good\"].hist(bins=10, color = 'Blue', alpha=0.5, ax = ax)\r\n",
        "dataframe[numeric_features][dataframe['Risk'] == \"bad\"].hist(bins=10, color = 'Black', alpha=0.5, ax = ax)\r\n",
        "plt.show()"
      ],
      "execution_count": null,
      "outputs": [
        {
          "output_type": "display_data",
          "data": {
            "image/png": "[encoded data removed]",
            "text/plain": [
              "<Figure size 1080x432 with 3 Axes>"
            ]
          },
          "metadata": {
            "tags": []
          }
        }
      ]
    },
    {
      "cell_type": "code",
      "metadata": {
        "colab": {
          "base_uri": "https://localhost:8080/",
          "height": 938
        },
        "id": "n6PAJqigZY_s",
        "outputId": "65c9f24b-15c7-4c5e-d5b8-6dbc6e6bd2c3"
      },
      "source": [
        "#Check distribution of feature\r\n",
        "cols = ['Quality', 'Tech_generation', 'Upgrade', 'Manufacturing','Maintenance','Product']\r\n",
        "\r\n",
        "fig, axarr = plt.subplots(2, 3, figsize=(15, 15))\r\n",
        "for i in cols:\r\n",
        "    index = cols.index(i)\r\n",
        "    plt.subplot(2, 3, index + 1)\r\n",
        "    sns.countplot(x = i, data = dataframe, hue=\"Risk\", palette = \"deep\")\r\n",
        "    plt.xticks(rotation=90)"
      ],
      "execution_count": null,
      "outputs": [
        {
          "output_type": "display_data",
          "data": {
            "image/png": "[encoded data removed]",
            "text/plain": [
              "<Figure size 1080x1080 with 6 Axes>"
            ]
          },
          "metadata": {
            "tags": []
          }
        }
      ]
    },
    {
      "cell_type": "code",
      "metadata": {
        "colab": {
          "base_uri": "https://localhost:8080/",
          "height": 335
        },
        "id": "Mq1FQmsMZb4L",
        "outputId": "fbc37da3-d8ef-4cdd-d21b-4761fb9f3313"
      },
      "source": [
        "#Check outlier\r\n",
        "fig, axarr = plt.subplots(1, 3, figsize=(10, 5))\r\n",
        "cols = ['Compatibility', 'Durability','Product_Value']\r\n",
        "for i in cols:\r\n",
        "    index = cols.index(i)\r\n",
        "    plt.subplot(1,3,index + 1)\r\n",
        "    sns.boxplot(dataframe[i])"
      ],
      "execution_count": null,
      "outputs": [
        {
          "output_type": "display_data",
          "data": {
            "image/png": "[encoded data removed]",
            "text/plain": [
              "<Figure size 720x360 with 3 Axes>"
            ]
          },
          "metadata": {
            "tags": []
          }
        }
      ]
    },
    {
      "cell_type": "code",
      "metadata": {
        "id": "sRB6SgQmZfpB"
      },
      "source": [
        "dataframe.drop('Unnamed: 0', axis = 1, inplace = True)"
      ],
      "execution_count": null,
      "outputs": []
    },
    {
      "cell_type": "code",
      "metadata": {
        "id": "u96s2kL9ZgzI"
      },
      "source": [
        "#Handle Missing Value\r\n",
        "dataframe['Manufacturing'].fillna('None', inplace = True)\r\n",
        "dataframe['Maintenance'].fillna('None', inplace = True)"
      ],
      "execution_count": null,
      "outputs": []
    },
    {
      "cell_type": "code",
      "metadata": {
        "colab": {
          "base_uri": "https://localhost:8080/"
        },
        "id": "3pwRo_BjZkeM",
        "outputId": "beae092e-975f-49c8-8ee9-f26e3ffddec6"
      },
      "source": [
        "print (\"Before handling ordinal type feature Manufacturing\", dataframe['Manufacturing'].unique())\r\n",
        "print ('Before handling ordinal type feature Maintenance', dataframe['Maintenance'].unique())\r\n",
        "print ('Before handling ordinal type feature Risk', dataframe['Risk'].unique())"
      ],
      "execution_count": null,
      "outputs": [
        {
          "output_type": "stream",
          "text": [
            "Before handling ordinal type feature Manufacturing ['None' 'easy' 'quite hard' 'hard' 'normal']\n",
            "Before handling ordinal type feature Maintenance ['easy' 'normal' 'None' 'hard']\n",
            "Before handling ordinal type feature Risk ['good' 'bad']\n"
          ],
          "name": "stdout"
        }
      ]
    },
    {
      "cell_type": "code",
      "metadata": {
        "colab": {
          "base_uri": "https://localhost:8080/"
        },
        "id": "vBzE88w8Zm7o",
        "outputId": "4552b196-9d71-4d36-f756-a1b6e95db968"
      },
      "source": [
        "le = LabelEncoder()\r\n",
        "dataframe['Manufacturing'] = le.fit_transform(dataframe['Manufacturing'])\r\n",
        "dataframe['Maintenance'] = le.fit_transform(dataframe['Maintenance'])\r\n",
        "dataframe['Risk'] = le.fit_transform(dataframe['Risk'])\r\n",
        "print ('After handling ordinal type feature Manufacturing', dataframe['Manufacturing'].unique())\r\n",
        "print ('After handling ordinal type feature Maintenance', dataframe['Maintenance'].unique())\r\n",
        "print ('After handling ordinal type feature Risk', dataframe['Risk'].unique())"
      ],
      "execution_count": null,
      "outputs": [
        {
          "output_type": "stream",
          "text": [
            "After handling ordinal type feature Manufacturing [0 1 4 2 3]\n",
            "After handling ordinal type feature Maintenance [1 3 0 2]\n",
            "After handling ordinal type feature Risk [1 0]\n"
          ],
          "name": "stdout"
        }
      ]
    },
    {
      "cell_type": "code",
      "metadata": {
        "id": "ZrNjI9G5ZpMm"
      },
      "source": [
        "#Change data type Job\r\n",
        "dataframe['Tech_generation'] = dataframe['Tech_generation'].astype(object)"
      ],
      "execution_count": null,
      "outputs": []
    },
    {
      "cell_type": "code",
      "metadata": {
        "id": "qXHD_iHhZtGS"
      },
      "source": [
        "#Handling outlier\r\n",
        "Q1 = (dataframe[['Compatibility', 'Durability','Product_Value']]).quantile(0.25)\r\n",
        "Q3 = (dataframe[['Compatibility', 'Durability','Product_Value']]).quantile(0.75)\r\n",
        "\r\n",
        "IQR = Q3 - Q1\r\n",
        "\r\n",
        "maximum = Q3 + (1.5*IQR)\r\n",
        "minimum = Q3 - (1.5*IQR)\r\n",
        "\r\n",
        "more_than = (dataframe[['Compatibility', 'Durability','Product_Value']] > maximum)\r\n",
        "lower_than = (dataframe[['Compatibility', 'Durability','Product_Value']] < minimum)\r\n",
        "\r\n",
        "dataframe[['Compatibility', 'Durability','Product_Value']] = dataframe[['Compatibility', 'Durability','Product_Value']].mask(more_than, maximum, axis=1)\r\n",
        "dataframe[['Compatibility', 'Durability','Product_Value']] = dataframe[['Compatibility', 'Durability','Product_Value']].mask(lower_than, minimum, axis=1)"
      ],
      "execution_count": null,
      "outputs": []
    },
    {
      "cell_type": "code",
      "metadata": {
        "colab": {
          "base_uri": "https://localhost:8080/",
          "height": 335
        },
        "id": "ltos3etVZvFV",
        "outputId": "3a4f00c4-4958-4c4a-f9d4-e7102187bd00"
      },
      "source": [
        "fig, axarr = plt.subplots(1, 3, figsize=(10, 5))\r\n",
        "cols = ['Compatibility', 'Durability','Product_Value']\r\n",
        "for i in cols:\r\n",
        "    index = cols.index(i)\r\n",
        "    plt.subplot(1,3,index + 1)\r\n",
        "    sns.boxplot(dataframe[i])"
      ],
      "execution_count": null,
      "outputs": [
        {
          "output_type": "display_data",
          "data": {
            "image/png": "[encoded data removed]",
            "text/plain": [
              "<Figure size 720x360 with 3 Axes>"
            ]
          },
          "metadata": {
            "tags": []
          }
        }
      ]
    },
    {
      "cell_type": "code",
      "metadata": {
        "id": "MWtDKR3EZyMv"
      },
      "source": [
        "#One Hot Encoding\r\n",
        "dataframe = pd.get_dummies(dataframe)"
      ],
      "execution_count": null,
      "outputs": []
    },
    {
      "cell_type": "code",
      "metadata": {
        "id": "JljjnOnKZ0Ye"
      },
      "source": [
        "#Spliting Dataframe\r\n",
        "X = dataframe.drop('Risk', axis = 1)\r\n",
        "y = dataframe['Risk']"
      ],
      "execution_count": null,
      "outputs": []
    },
    {
      "cell_type": "code",
      "metadata": {
        "colab": {
          "base_uri": "https://localhost:8080/",
          "height": 224
        },
        "id": "3AmGnVI0Z2Gv",
        "outputId": "16bc13cc-0cd0-4ba2-fff9-dff9a2c48485"
      },
      "source": [
        "dataframe.head()"
      ],
      "execution_count": null,
      "outputs": [
        {
          "output_type": "execute_result",
          "data": {
            "text/html": [
              "<div>\n",
              "<style scoped>\n",
              "    .dataframe tbody tr th:only-of-type {\n",
              "        vertical-align: middle;\n",
              "    }\n",
              "\n",
              "    .dataframe tbody tr th {\n",
              "        vertical-align: top;\n",
              "    }\n",
              "\n",
              "    .dataframe thead th {\n",
              "        text-align: right;\n",
              "    }\n",
              "</style>\n",
              "<table border=\"1\" class=\"dataframe\">\n",
              "  <thead>\n",
              "    <tr style=\"text-align: right;\">\n",
              "      <th></th>\n",
              "      <th>Compatibility</th>\n",
              "      <th>Manufacturing</th>\n",
              "      <th>Maintenance</th>\n",
              "      <th>Product_Value</th>\n",
              "      <th>Durability</th>\n",
              "      <th>Risk</th>\n",
              "      <th>Quality_high</th>\n",
              "      <th>Quality_low</th>\n",
              "      <th>Tech_generation_0</th>\n",
              "      <th>Tech_generation_1</th>\n",
              "      <th>Tech_generation_2</th>\n",
              "      <th>Tech_generation_3</th>\n",
              "      <th>Upgrade_easy</th>\n",
              "      <th>Upgrade_hard</th>\n",
              "      <th>Upgrade_normal</th>\n",
              "      <th>Product_drosrite</th>\n",
              "      <th>Product_metal_powder</th>\n",
              "      <th>Product_other1</th>\n",
              "      <th>Product_other2</th>\n",
              "      <th>Product_other3</th>\n",
              "      <th>Product_plasma_torch</th>\n",
              "      <th>Product_process_dev</th>\n",
              "      <th>Product_waste_mngmt</th>\n",
              "    </tr>\n",
              "  </thead>\n",
              "  <tbody>\n",
              "    <tr>\n",
              "      <th>0</th>\n",
              "      <td>64.5</td>\n",
              "      <td>0</td>\n",
              "      <td>1</td>\n",
              "      <td>1169.0</td>\n",
              "      <td>6</td>\n",
              "      <td>1</td>\n",
              "      <td>1</td>\n",
              "      <td>0</td>\n",
              "      <td>0</td>\n",
              "      <td>0</td>\n",
              "      <td>1</td>\n",
              "      <td>0</td>\n",
              "      <td>1</td>\n",
              "      <td>0</td>\n",
              "      <td>0</td>\n",
              "      <td>0</td>\n",
              "      <td>1</td>\n",
              "      <td>0</td>\n",
              "      <td>0</td>\n",
              "      <td>0</td>\n",
              "      <td>0</td>\n",
              "      <td>0</td>\n",
              "      <td>0</td>\n",
              "    </tr>\n",
              "    <tr>\n",
              "      <th>1</th>\n",
              "      <td>22.0</td>\n",
              "      <td>1</td>\n",
              "      <td>3</td>\n",
              "      <td>5951.0</td>\n",
              "      <td>42</td>\n",
              "      <td>0</td>\n",
              "      <td>0</td>\n",
              "      <td>1</td>\n",
              "      <td>0</td>\n",
              "      <td>0</td>\n",
              "      <td>1</td>\n",
              "      <td>0</td>\n",
              "      <td>1</td>\n",
              "      <td>0</td>\n",
              "      <td>0</td>\n",
              "      <td>0</td>\n",
              "      <td>1</td>\n",
              "      <td>0</td>\n",
              "      <td>0</td>\n",
              "      <td>0</td>\n",
              "      <td>0</td>\n",
              "      <td>0</td>\n",
              "      <td>0</td>\n",
              "    </tr>\n",
              "    <tr>\n",
              "      <th>2</th>\n",
              "      <td>49.0</td>\n",
              "      <td>1</td>\n",
              "      <td>0</td>\n",
              "      <td>2096.0</td>\n",
              "      <td>12</td>\n",
              "      <td>1</td>\n",
              "      <td>1</td>\n",
              "      <td>0</td>\n",
              "      <td>0</td>\n",
              "      <td>1</td>\n",
              "      <td>0</td>\n",
              "      <td>0</td>\n",
              "      <td>1</td>\n",
              "      <td>0</td>\n",
              "      <td>0</td>\n",
              "      <td>0</td>\n",
              "      <td>0</td>\n",
              "      <td>0</td>\n",
              "      <td>0</td>\n",
              "      <td>0</td>\n",
              "      <td>0</td>\n",
              "      <td>1</td>\n",
              "      <td>0</td>\n",
              "    </tr>\n",
              "    <tr>\n",
              "      <th>3</th>\n",
              "      <td>45.0</td>\n",
              "      <td>1</td>\n",
              "      <td>1</td>\n",
              "      <td>7882.0</td>\n",
              "      <td>42</td>\n",
              "      <td>1</td>\n",
              "      <td>1</td>\n",
              "      <td>0</td>\n",
              "      <td>0</td>\n",
              "      <td>0</td>\n",
              "      <td>1</td>\n",
              "      <td>0</td>\n",
              "      <td>0</td>\n",
              "      <td>0</td>\n",
              "      <td>1</td>\n",
              "      <td>0</td>\n",
              "      <td>0</td>\n",
              "      <td>0</td>\n",
              "      <td>0</td>\n",
              "      <td>0</td>\n",
              "      <td>0</td>\n",
              "      <td>0</td>\n",
              "      <td>1</td>\n",
              "    </tr>\n",
              "    <tr>\n",
              "      <th>4</th>\n",
              "      <td>53.0</td>\n",
              "      <td>1</td>\n",
              "      <td>1</td>\n",
              "      <td>4870.0</td>\n",
              "      <td>24</td>\n",
              "      <td>0</td>\n",
              "      <td>1</td>\n",
              "      <td>0</td>\n",
              "      <td>0</td>\n",
              "      <td>0</td>\n",
              "      <td>1</td>\n",
              "      <td>0</td>\n",
              "      <td>0</td>\n",
              "      <td>0</td>\n",
              "      <td>1</td>\n",
              "      <td>0</td>\n",
              "      <td>0</td>\n",
              "      <td>0</td>\n",
              "      <td>0</td>\n",
              "      <td>0</td>\n",
              "      <td>1</td>\n",
              "      <td>0</td>\n",
              "      <td>0</td>\n",
              "    </tr>\n",
              "  </tbody>\n",
              "</table>\n",
              "</div>"
            ],
            "text/plain": [
              "   Compatibility  Manufacturing  ...  Product_process_dev  Product_waste_mngmt\n",
              "0           64.5              0  ...                    0                    0\n",
              "1           22.0              1  ...                    0                    0\n",
              "2           49.0              1  ...                    1                    0\n",
              "3           45.0              1  ...                    0                    1\n",
              "4           53.0              1  ...                    0                    0\n",
              "\n",
              "[5 rows x 23 columns]"
            ]
          },
          "metadata": {
            "tags": []
          },
          "execution_count": 22
        }
      ]
    },
    {
      "cell_type": "code",
      "metadata": {
        "id": "L5edeb2r_agx"
      },
      "source": [
        "from sklearn.model_selection import train_test_split\n",
        "X_train, X_test, y_train, y_test = train_test_split(X, y, test_size = 0.4, random_state = 0)"
      ],
      "execution_count": null,
      "outputs": []
    },
    {
      "cell_type": "code",
      "metadata": {
        "id": "XrHbfZxpj43s"
      },
      "source": [
        "from sklearn.preprocessing import StandardScaler\r\n",
        "sc = StandardScaler()\r\n",
        "X_total = sc.fit_transform(X)\r\n",
        "X_train = sc.fit_transform(X_train)\r\n",
        "X_test = sc.fit_transform(X_test)"
      ],
      "execution_count": null,
      "outputs": []
    },
    {
      "cell_type": "code",
      "metadata": {
        "id": "P71moOsWamTP"
      },
      "source": [
        "ann = tf.keras.models.Sequential()"
      ],
      "execution_count": null,
      "outputs": []
    },
    {
      "cell_type": "code",
      "metadata": {
        "id": "FT6xqLPAuLp5"
      },
      "source": [
        "from keras.layers import Dropout\r\n",
        "from keras.regularizers import l2\r\n",
        "import keras as kp\r\n",
        "opt = kp.optimizers.Adam(learning_rate=0.0075)"
      ],
      "execution_count": null,
      "outputs": []
    },
    {
      "cell_type": "code",
      "metadata": {
        "id": "agMPx747bEl0"
      },
      "source": [
        "ann.add(tf.keras.layers.Dense(units=27, activation='relu')) #,kernel_regularizer=l2(0.001), bias_regularizer=l2(0.001)))"
      ],
      "execution_count": null,
      "outputs": []
    },
    {
      "cell_type": "code",
      "metadata": {
        "id": "5Yq0-0-gtqTf"
      },
      "source": [
        "ann.add(Dropout(0.2))"
      ],
      "execution_count": null,
      "outputs": []
    },
    {
      "cell_type": "code",
      "metadata": {
        "id": "_ZfO_4I-bTjN"
      },
      "source": [
        "ann.add(tf.keras.layers.Dense(units=1, activation='sigmoid'))"
      ],
      "execution_count": null,
      "outputs": []
    },
    {
      "cell_type": "code",
      "metadata": {
        "id": "nbxCOPBnbbCV"
      },
      "source": [
        "ann.compile(optimizer = opt, loss = 'mean_squared_error')"
      ],
      "execution_count": null,
      "outputs": []
    },
    {
      "cell_type": "code",
      "metadata": {
        "colab": {
          "base_uri": "https://localhost:8080/"
        },
        "id": "YIc2KMcXbgd8",
        "outputId": "ac5203a5-41a7-4441-863c-da2566c5cd21"
      },
      "source": [
        "ann.fit(X_train, y_train, batch_size = 32, epochs = 300)"
      ],
      "execution_count": null,
      "outputs": [
        {
          "output_type": "stream",
          "text": [
            "Epoch 1/300\n",
            "19/19 [==============================] - 0s 1ms/step - loss: 0.1074\n",
            "Epoch 2/300\n",
            "19/19 [==============================] - 0s 1ms/step - loss: 0.1016\n",
            "Epoch 3/300\n",
            "19/19 [==============================] - 0s 1ms/step - loss: 0.1026\n",
            "Epoch 4/300\n",
            "19/19 [==============================] - 0s 1ms/step - loss: 0.0988\n",
            "Epoch 5/300\n",
            "19/19 [==============================] - 0s 1ms/step - loss: 0.1018\n",
            "Epoch 6/300\n",
            "19/19 [==============================] - 0s 1ms/step - loss: 0.1019\n",
            "Epoch 7/300\n",
            "19/19 [==============================] - 0s 1ms/step - loss: 0.1048\n",
            "Epoch 8/300\n",
            "19/19 [==============================] - 0s 1ms/step - loss: 0.1025\n",
            "Epoch 9/300\n",
            "19/19 [==============================] - 0s 1ms/step - loss: 0.0964\n",
            "Epoch 10/300\n",
            "19/19 [==============================] - 0s 1ms/step - loss: 0.1053\n",
            "Epoch 11/300\n",
            "19/19 [==============================] - 0s 1ms/step - loss: 0.1017\n",
            "Epoch 12/300\n",
            "19/19 [==============================] - 0s 1ms/step - loss: 0.0943\n",
            "Epoch 13/300\n",
            "19/19 [==============================] - 0s 1ms/step - loss: 0.1029\n",
            "Epoch 14/300\n",
            "19/19 [==============================] - 0s 1ms/step - loss: 0.1030\n",
            "Epoch 15/300\n",
            "19/19 [==============================] - 0s 1ms/step - loss: 0.0969\n",
            "Epoch 16/300\n",
            "19/19 [==============================] - 0s 1ms/step - loss: 0.0948\n",
            "Epoch 17/300\n",
            "19/19 [==============================] - 0s 1ms/step - loss: 0.0995\n",
            "Epoch 18/300\n",
            "19/19 [==============================] - 0s 1ms/step - loss: 0.0966\n",
            "Epoch 19/300\n",
            "19/19 [==============================] - 0s 2ms/step - loss: 0.0986\n",
            "Epoch 20/300\n",
            "19/19 [==============================] - 0s 1ms/step - loss: 0.0954\n",
            "Epoch 21/300\n",
            "19/19 [==============================] - 0s 1ms/step - loss: 0.0974\n",
            "Epoch 22/300\n",
            "19/19 [==============================] - 0s 1ms/step - loss: 0.0937\n",
            "Epoch 23/300\n",
            "19/19 [==============================] - 0s 1ms/step - loss: 0.0999\n",
            "Epoch 24/300\n",
            "19/19 [==============================] - 0s 1ms/step - loss: 0.0914\n",
            "Epoch 25/300\n",
            "19/19 [==============================] - 0s 1ms/step - loss: 0.1027\n",
            "Epoch 26/300\n",
            "19/19 [==============================] - 0s 2ms/step - loss: 0.1030\n",
            "Epoch 27/300\n",
            "19/19 [==============================] - 0s 1ms/step - loss: 0.0998\n",
            "Epoch 28/300\n",
            "19/19 [==============================] - 0s 1ms/step - loss: 0.0962\n",
            "Epoch 29/300\n",
            "19/19 [==============================] - 0s 1ms/step - loss: 0.0949\n",
            "Epoch 30/300\n",
            "19/19 [==============================] - 0s 1ms/step - loss: 0.0997\n",
            "Epoch 31/300\n",
            "19/19 [==============================] - 0s 1ms/step - loss: 0.1036\n",
            "Epoch 32/300\n",
            "19/19 [==============================] - 0s 1ms/step - loss: 0.1039\n",
            "Epoch 33/300\n",
            "19/19 [==============================] - 0s 1ms/step - loss: 0.0902\n",
            "Epoch 34/300\n",
            "19/19 [==============================] - 0s 1ms/step - loss: 0.1016\n",
            "Epoch 35/300\n",
            "19/19 [==============================] - 0s 1ms/step - loss: 0.0918\n",
            "Epoch 36/300\n",
            "19/19 [==============================] - 0s 1ms/step - loss: 0.0949\n",
            "Epoch 37/300\n",
            "19/19 [==============================] - 0s 1ms/step - loss: 0.0896\n",
            "Epoch 38/300\n",
            "19/19 [==============================] - 0s 1ms/step - loss: 0.1080\n",
            "Epoch 39/300\n",
            "19/19 [==============================] - 0s 1ms/step - loss: 0.1022\n",
            "Epoch 40/300\n",
            "19/19 [==============================] - 0s 1ms/step - loss: 0.1003\n",
            "Epoch 41/300\n",
            "19/19 [==============================] - 0s 1ms/step - loss: 0.1095\n",
            "Epoch 42/300\n",
            "19/19 [==============================] - 0s 1ms/step - loss: 0.0976\n",
            "Epoch 43/300\n",
            "19/19 [==============================] - 0s 1ms/step - loss: 0.0962\n",
            "Epoch 44/300\n",
            "19/19 [==============================] - 0s 1ms/step - loss: 0.0883\n",
            "Epoch 45/300\n",
            "19/19 [==============================] - 0s 1ms/step - loss: 0.1038\n",
            "Epoch 46/300\n",
            "19/19 [==============================] - 0s 1ms/step - loss: 0.0994\n",
            "Epoch 47/300\n",
            "19/19 [==============================] - 0s 1ms/step - loss: 0.0948\n",
            "Epoch 48/300\n",
            "19/19 [==============================] - 0s 2ms/step - loss: 0.0928\n",
            "Epoch 49/300\n",
            "19/19 [==============================] - 0s 1ms/step - loss: 0.0963\n",
            "Epoch 50/300\n",
            "19/19 [==============================] - 0s 1ms/step - loss: 0.1056\n",
            "Epoch 51/300\n",
            "19/19 [==============================] - 0s 1ms/step - loss: 0.1109\n",
            "Epoch 52/300\n",
            "19/19 [==============================] - 0s 1ms/step - loss: 0.0937\n",
            "Epoch 53/300\n",
            "19/19 [==============================] - 0s 1ms/step - loss: 0.1036\n",
            "Epoch 54/300\n",
            "19/19 [==============================] - 0s 1ms/step - loss: 0.0967\n",
            "Epoch 55/300\n",
            "19/19 [==============================] - 0s 1ms/step - loss: 0.0974\n",
            "Epoch 56/300\n",
            "19/19 [==============================] - 0s 1ms/step - loss: 0.0992\n",
            "Epoch 57/300\n",
            "19/19 [==============================] - 0s 1ms/step - loss: 0.0905\n",
            "Epoch 58/300\n",
            "19/19 [==============================] - 0s 1ms/step - loss: 0.0982\n",
            "Epoch 59/300\n",
            "19/19 [==============================] - 0s 1ms/step - loss: 0.1000\n",
            "Epoch 60/300\n",
            "19/19 [==============================] - 0s 1ms/step - loss: 0.0994\n",
            "Epoch 61/300\n",
            "19/19 [==============================] - 0s 1ms/step - loss: 0.0962\n",
            "Epoch 62/300\n",
            "19/19 [==============================] - 0s 1ms/step - loss: 0.1035\n",
            "Epoch 63/300\n",
            "19/19 [==============================] - 0s 1ms/step - loss: 0.1060\n",
            "Epoch 64/300\n",
            "19/19 [==============================] - 0s 1ms/step - loss: 0.0953\n",
            "Epoch 65/300\n",
            "19/19 [==============================] - 0s 1ms/step - loss: 0.0970\n",
            "Epoch 66/300\n",
            "19/19 [==============================] - 0s 1ms/step - loss: 0.0986\n",
            "Epoch 67/300\n",
            "19/19 [==============================] - 0s 1ms/step - loss: 0.1063\n",
            "Epoch 68/300\n",
            "19/19 [==============================] - 0s 1ms/step - loss: 0.0860\n",
            "Epoch 69/300\n",
            "19/19 [==============================] - 0s 1ms/step - loss: 0.0970\n",
            "Epoch 70/300\n",
            "19/19 [==============================] - 0s 1ms/step - loss: 0.0893\n",
            "Epoch 71/300\n",
            "19/19 [==============================] - 0s 2ms/step - loss: 0.0959\n",
            "Epoch 72/300\n",
            "19/19 [==============================] - 0s 1ms/step - loss: 0.0932\n",
            "Epoch 73/300\n",
            "19/19 [==============================] - 0s 1ms/step - loss: 0.1042\n",
            "Epoch 74/300\n",
            "19/19 [==============================] - 0s 1ms/step - loss: 0.0987\n",
            "Epoch 75/300\n",
            "19/19 [==============================] - 0s 1ms/step - loss: 0.0984\n",
            "Epoch 76/300\n",
            "19/19 [==============================] - 0s 2ms/step - loss: 0.0970\n",
            "Epoch 77/300\n",
            "19/19 [==============================] - 0s 1ms/step - loss: 0.0955\n",
            "Epoch 78/300\n",
            "19/19 [==============================] - 0s 1ms/step - loss: 0.1011\n",
            "Epoch 79/300\n",
            "19/19 [==============================] - 0s 1ms/step - loss: 0.0909\n",
            "Epoch 80/300\n",
            "19/19 [==============================] - 0s 2ms/step - loss: 0.0952\n",
            "Epoch 81/300\n",
            "19/19 [==============================] - 0s 1ms/step - loss: 0.1016\n",
            "Epoch 82/300\n",
            "19/19 [==============================] - 0s 1ms/step - loss: 0.0963\n",
            "Epoch 83/300\n",
            "19/19 [==============================] - 0s 1ms/step - loss: 0.0925\n",
            "Epoch 84/300\n",
            "19/19 [==============================] - 0s 2ms/step - loss: 0.1013\n",
            "Epoch 85/300\n",
            "19/19 [==============================] - 0s 1ms/step - loss: 0.1007\n",
            "Epoch 86/300\n",
            "19/19 [==============================] - 0s 1ms/step - loss: 0.0971\n",
            "Epoch 87/300\n",
            "19/19 [==============================] - 0s 1ms/step - loss: 0.0910\n",
            "Epoch 88/300\n",
            "19/19 [==============================] - 0s 1ms/step - loss: 0.0947\n",
            "Epoch 89/300\n",
            "19/19 [==============================] - 0s 1ms/step - loss: 0.1005\n",
            "Epoch 90/300\n",
            "19/19 [==============================] - 0s 1ms/step - loss: 0.0946\n",
            "Epoch 91/300\n",
            "19/19 [==============================] - 0s 1ms/step - loss: 0.1005\n",
            "Epoch 92/300\n",
            "19/19 [==============================] - 0s 1ms/step - loss: 0.0903\n",
            "Epoch 93/300\n",
            "19/19 [==============================] - 0s 1ms/step - loss: 0.0986\n",
            "Epoch 94/300\n",
            "19/19 [==============================] - 0s 1ms/step - loss: 0.0927\n",
            "Epoch 95/300\n",
            "19/19 [==============================] - 0s 1ms/step - loss: 0.0888\n",
            "Epoch 96/300\n",
            "19/19 [==============================] - 0s 1ms/step - loss: 0.0956\n",
            "Epoch 97/300\n",
            "19/19 [==============================] - 0s 1ms/step - loss: 0.0932\n",
            "Epoch 98/300\n",
            "19/19 [==============================] - 0s 1ms/step - loss: 0.0925\n",
            "Epoch 99/300\n",
            "19/19 [==============================] - 0s 1ms/step - loss: 0.1011\n",
            "Epoch 100/300\n",
            "19/19 [==============================] - 0s 1ms/step - loss: 0.0879\n",
            "Epoch 101/300\n",
            "19/19 [==============================] - 0s 1ms/step - loss: 0.1020\n",
            "Epoch 102/300\n",
            "19/19 [==============================] - 0s 1ms/step - loss: 0.0999\n",
            "Epoch 103/300\n",
            "19/19 [==============================] - 0s 1ms/step - loss: 0.0885\n",
            "Epoch 104/300\n",
            "19/19 [==============================] - 0s 1ms/step - loss: 0.1032\n",
            "Epoch 105/300\n",
            "19/19 [==============================] - 0s 1ms/step - loss: 0.0995\n",
            "Epoch 106/300\n",
            "19/19 [==============================] - 0s 1ms/step - loss: 0.0928\n",
            "Epoch 107/300\n",
            "19/19 [==============================] - 0s 2ms/step - loss: 0.1014\n",
            "Epoch 108/300\n",
            "19/19 [==============================] - 0s 1ms/step - loss: 0.0877\n",
            "Epoch 109/300\n",
            "19/19 [==============================] - 0s 1ms/step - loss: 0.0920\n",
            "Epoch 110/300\n",
            "19/19 [==============================] - 0s 1ms/step - loss: 0.0908\n",
            "Epoch 111/300\n",
            "19/19 [==============================] - 0s 1ms/step - loss: 0.0882\n",
            "Epoch 112/300\n",
            "19/19 [==============================] - 0s 1ms/step - loss: 0.0978\n",
            "Epoch 113/300\n",
            "19/19 [==============================] - 0s 1ms/step - loss: 0.0957\n",
            "Epoch 114/300\n",
            "19/19 [==============================] - 0s 1ms/step - loss: 0.0970\n",
            "Epoch 115/300\n",
            "19/19 [==============================] - 0s 1ms/step - loss: 0.0898\n",
            "Epoch 116/300\n",
            "19/19 [==============================] - 0s 1ms/step - loss: 0.1012\n",
            "Epoch 117/300\n",
            "19/19 [==============================] - 0s 1ms/step - loss: 0.0828\n",
            "Epoch 118/300\n",
            "19/19 [==============================] - 0s 1ms/step - loss: 0.0974\n",
            "Epoch 119/300\n",
            "19/19 [==============================] - 0s 1ms/step - loss: 0.0893\n",
            "Epoch 120/300\n",
            "19/19 [==============================] - 0s 2ms/step - loss: 0.0928\n",
            "Epoch 121/300\n",
            "19/19 [==============================] - 0s 1ms/step - loss: 0.0884\n",
            "Epoch 122/300\n",
            "19/19 [==============================] - 0s 1ms/step - loss: 0.0968\n",
            "Epoch 123/300\n",
            "19/19 [==============================] - 0s 1ms/step - loss: 0.0957\n",
            "Epoch 124/300\n",
            "19/19 [==============================] - 0s 1ms/step - loss: 0.0898\n",
            "Epoch 125/300\n",
            "19/19 [==============================] - 0s 2ms/step - loss: 0.0905\n",
            "Epoch 126/300\n",
            "19/19 [==============================] - 0s 1ms/step - loss: 0.0906\n",
            "Epoch 127/300\n",
            "19/19 [==============================] - 0s 1ms/step - loss: 0.0897\n",
            "Epoch 128/300\n",
            "19/19 [==============================] - 0s 1ms/step - loss: 0.0910\n",
            "Epoch 129/300\n",
            "19/19 [==============================] - 0s 1ms/step - loss: 0.0923\n",
            "Epoch 130/300\n",
            "19/19 [==============================] - 0s 1ms/step - loss: 0.0950\n",
            "Epoch 131/300\n",
            "19/19 [==============================] - 0s 1ms/step - loss: 0.0940\n",
            "Epoch 132/300\n",
            "19/19 [==============================] - 0s 2ms/step - loss: 0.0868\n",
            "Epoch 133/300\n",
            "19/19 [==============================] - 0s 1ms/step - loss: 0.0939\n",
            "Epoch 134/300\n",
            "19/19 [==============================] - 0s 1ms/step - loss: 0.0993\n",
            "Epoch 135/300\n",
            "19/19 [==============================] - 0s 1ms/step - loss: 0.0936\n",
            "Epoch 136/300\n",
            "19/19 [==============================] - 0s 1ms/step - loss: 0.0980\n",
            "Epoch 137/300\n",
            "19/19 [==============================] - 0s 1ms/step - loss: 0.0970\n",
            "Epoch 138/300\n",
            "19/19 [==============================] - 0s 1ms/step - loss: 0.0882\n",
            "Epoch 139/300\n",
            "19/19 [==============================] - 0s 1ms/step - loss: 0.0978\n",
            "Epoch 140/300\n",
            "19/19 [==============================] - 0s 1ms/step - loss: 0.0888\n",
            "Epoch 141/300\n",
            "19/19 [==============================] - 0s 1ms/step - loss: 0.0911\n",
            "Epoch 142/300\n",
            "19/19 [==============================] - 0s 1ms/step - loss: 0.1034\n",
            "Epoch 143/300\n",
            "19/19 [==============================] - 0s 1ms/step - loss: 0.0803\n",
            "Epoch 144/300\n",
            "19/19 [==============================] - 0s 1ms/step - loss: 0.0868\n",
            "Epoch 145/300\n",
            "19/19 [==============================] - 0s 1ms/step - loss: 0.0864\n",
            "Epoch 146/300\n",
            "19/19 [==============================] - 0s 1ms/step - loss: 0.0997\n",
            "Epoch 147/300\n",
            "19/19 [==============================] - 0s 1ms/step - loss: 0.0880\n",
            "Epoch 148/300\n",
            "19/19 [==============================] - 0s 1ms/step - loss: 0.1090\n",
            "Epoch 149/300\n",
            "19/19 [==============================] - 0s 1ms/step - loss: 0.0871\n",
            "Epoch 150/300\n",
            "19/19 [==============================] - 0s 1ms/step - loss: 0.0824\n",
            "Epoch 151/300\n",
            "19/19 [==============================] - 0s 1ms/step - loss: 0.0851\n",
            "Epoch 152/300\n",
            "19/19 [==============================] - 0s 1ms/step - loss: 0.0909\n",
            "Epoch 153/300\n",
            "19/19 [==============================] - 0s 1ms/step - loss: 0.0894\n",
            "Epoch 154/300\n",
            "19/19 [==============================] - 0s 1ms/step - loss: 0.0909\n",
            "Epoch 155/300\n",
            "19/19 [==============================] - 0s 1ms/step - loss: 0.0920\n",
            "Epoch 156/300\n",
            "19/19 [==============================] - 0s 1ms/step - loss: 0.0954\n",
            "Epoch 157/300\n",
            "19/19 [==============================] - 0s 1ms/step - loss: 0.0896\n",
            "Epoch 158/300\n",
            "19/19 [==============================] - 0s 1ms/step - loss: 0.0884\n",
            "Epoch 159/300\n",
            "19/19 [==============================] - 0s 1ms/step - loss: 0.0886\n",
            "Epoch 160/300\n",
            "19/19 [==============================] - 0s 2ms/step - loss: 0.1009\n",
            "Epoch 161/300\n",
            "19/19 [==============================] - 0s 2ms/step - loss: 0.0949\n",
            "Epoch 162/300\n",
            "19/19 [==============================] - 0s 2ms/step - loss: 0.0981\n",
            "Epoch 163/300\n",
            "19/19 [==============================] - 0s 2ms/step - loss: 0.0996\n",
            "Epoch 164/300\n",
            "19/19 [==============================] - 0s 1ms/step - loss: 0.0851\n",
            "Epoch 165/300\n",
            "19/19 [==============================] - 0s 1ms/step - loss: 0.0999\n",
            "Epoch 166/300\n",
            "19/19 [==============================] - 0s 2ms/step - loss: 0.0811\n",
            "Epoch 167/300\n",
            "19/19 [==============================] - 0s 1ms/step - loss: 0.0833\n",
            "Epoch 168/300\n",
            "19/19 [==============================] - 0s 1ms/step - loss: 0.0918\n",
            "Epoch 169/300\n",
            "19/19 [==============================] - 0s 1ms/step - loss: 0.0927\n",
            "Epoch 170/300\n",
            "19/19 [==============================] - 0s 1ms/step - loss: 0.0841\n",
            "Epoch 171/300\n",
            "19/19 [==============================] - 0s 1ms/step - loss: 0.0908\n",
            "Epoch 172/300\n",
            "19/19 [==============================] - 0s 1ms/step - loss: 0.0828\n",
            "Epoch 173/300\n",
            "19/19 [==============================] - 0s 1ms/step - loss: 0.0932\n",
            "Epoch 174/300\n",
            "19/19 [==============================] - 0s 1ms/step - loss: 0.0891\n",
            "Epoch 175/300\n",
            "19/19 [==============================] - 0s 2ms/step - loss: 0.0847\n",
            "Epoch 176/300\n",
            "19/19 [==============================] - 0s 1ms/step - loss: 0.1043\n",
            "Epoch 177/300\n",
            "19/19 [==============================] - 0s 1ms/step - loss: 0.0874\n",
            "Epoch 178/300\n",
            "19/19 [==============================] - 0s 1ms/step - loss: 0.0902\n",
            "Epoch 179/300\n",
            "19/19 [==============================] - 0s 1ms/step - loss: 0.0838\n",
            "Epoch 180/300\n",
            "19/19 [==============================] - 0s 1ms/step - loss: 0.0956\n",
            "Epoch 181/300\n",
            "19/19 [==============================] - 0s 1ms/step - loss: 0.0824\n",
            "Epoch 182/300\n",
            "19/19 [==============================] - 0s 1ms/step - loss: 0.0938\n",
            "Epoch 183/300\n",
            "19/19 [==============================] - 0s 1ms/step - loss: 0.0915\n",
            "Epoch 184/300\n",
            "19/19 [==============================] - 0s 1ms/step - loss: 0.0951\n",
            "Epoch 185/300\n",
            "19/19 [==============================] - 0s 1ms/step - loss: 0.0848\n",
            "Epoch 186/300\n",
            "19/19 [==============================] - 0s 1ms/step - loss: 0.0897\n",
            "Epoch 187/300\n",
            "19/19 [==============================] - 0s 1ms/step - loss: 0.0890\n",
            "Epoch 188/300\n",
            "19/19 [==============================] - 0s 1ms/step - loss: 0.0935\n",
            "Epoch 189/300\n",
            "19/19 [==============================] - 0s 1ms/step - loss: 0.0891\n",
            "Epoch 190/300\n",
            "19/19 [==============================] - 0s 1ms/step - loss: 0.0980\n",
            "Epoch 191/300\n",
            "19/19 [==============================] - 0s 1ms/step - loss: 0.1006\n",
            "Epoch 192/300\n",
            "19/19 [==============================] - 0s 2ms/step - loss: 0.0961\n",
            "Epoch 193/300\n",
            "19/19 [==============================] - 0s 1ms/step - loss: 0.0870\n",
            "Epoch 194/300\n",
            "19/19 [==============================] - 0s 1ms/step - loss: 0.0867\n",
            "Epoch 195/300\n",
            "19/19 [==============================] - 0s 2ms/step - loss: 0.0957\n",
            "Epoch 196/300\n",
            "19/19 [==============================] - 0s 1ms/step - loss: 0.0950\n",
            "Epoch 197/300\n",
            "19/19 [==============================] - 0s 2ms/step - loss: 0.0839\n",
            "Epoch 198/300\n",
            "19/19 [==============================] - 0s 1ms/step - loss: 0.0869\n",
            "Epoch 199/300\n",
            "19/19 [==============================] - 0s 1ms/step - loss: 0.0944\n",
            "Epoch 200/300\n",
            "19/19 [==============================] - 0s 2ms/step - loss: 0.0788\n",
            "Epoch 201/300\n",
            "19/19 [==============================] - 0s 2ms/step - loss: 0.0959\n",
            "Epoch 202/300\n",
            "19/19 [==============================] - 0s 1ms/step - loss: 0.0910\n",
            "Epoch 203/300\n",
            "19/19 [==============================] - 0s 2ms/step - loss: 0.0901\n",
            "Epoch 204/300\n",
            "19/19 [==============================] - 0s 1ms/step - loss: 0.0787\n",
            "Epoch 205/300\n",
            "19/19 [==============================] - 0s 1ms/step - loss: 0.0881\n",
            "Epoch 206/300\n",
            "19/19 [==============================] - 0s 1ms/step - loss: 0.0914\n",
            "Epoch 207/300\n",
            "19/19 [==============================] - 0s 2ms/step - loss: 0.1015\n",
            "Epoch 208/300\n",
            "19/19 [==============================] - 0s 1ms/step - loss: 0.0928\n",
            "Epoch 209/300\n",
            "19/19 [==============================] - 0s 1ms/step - loss: 0.0804\n",
            "Epoch 210/300\n",
            "19/19 [==============================] - 0s 1ms/step - loss: 0.0836\n",
            "Epoch 211/300\n",
            "19/19 [==============================] - 0s 1ms/step - loss: 0.0862\n",
            "Epoch 212/300\n",
            "19/19 [==============================] - 0s 1ms/step - loss: 0.0891\n",
            "Epoch 213/300\n",
            "19/19 [==============================] - 0s 1ms/step - loss: 0.0925\n",
            "Epoch 214/300\n",
            "19/19 [==============================] - 0s 1ms/step - loss: 0.0875\n",
            "Epoch 215/300\n",
            "19/19 [==============================] - 0s 1ms/step - loss: 0.0906\n",
            "Epoch 216/300\n",
            "19/19 [==============================] - 0s 1ms/step - loss: 0.0919\n",
            "Epoch 217/300\n",
            "19/19 [==============================] - 0s 1ms/step - loss: 0.0868\n",
            "Epoch 218/300\n",
            "19/19 [==============================] - 0s 2ms/step - loss: 0.0808\n",
            "Epoch 219/300\n",
            "19/19 [==============================] - 0s 1ms/step - loss: 0.0814\n",
            "Epoch 220/300\n",
            "19/19 [==============================] - 0s 1ms/step - loss: 0.0865\n",
            "Epoch 221/300\n",
            "19/19 [==============================] - 0s 1ms/step - loss: 0.0848\n",
            "Epoch 222/300\n",
            "19/19 [==============================] - 0s 1ms/step - loss: 0.0888\n",
            "Epoch 223/300\n",
            "19/19 [==============================] - 0s 1ms/step - loss: 0.0893\n",
            "Epoch 224/300\n",
            "19/19 [==============================] - 0s 1ms/step - loss: 0.0802\n",
            "Epoch 225/300\n",
            "19/19 [==============================] - 0s 1ms/step - loss: 0.0839\n",
            "Epoch 226/300\n",
            "19/19 [==============================] - 0s 1ms/step - loss: 0.0803\n",
            "Epoch 227/300\n",
            "19/19 [==============================] - 0s 2ms/step - loss: 0.1040\n",
            "Epoch 228/300\n",
            "19/19 [==============================] - 0s 1ms/step - loss: 0.0843\n",
            "Epoch 229/300\n",
            "19/19 [==============================] - 0s 1ms/step - loss: 0.0787\n",
            "Epoch 230/300\n",
            "19/19 [==============================] - 0s 1ms/step - loss: 0.0850\n",
            "Epoch 231/300\n",
            "19/19 [==============================] - 0s 1ms/step - loss: 0.0893\n",
            "Epoch 232/300\n",
            "19/19 [==============================] - 0s 1ms/step - loss: 0.0842\n",
            "Epoch 233/300\n",
            "19/19 [==============================] - 0s 1ms/step - loss: 0.0946\n",
            "Epoch 234/300\n",
            "19/19 [==============================] - 0s 2ms/step - loss: 0.0833\n",
            "Epoch 235/300\n",
            "19/19 [==============================] - 0s 1ms/step - loss: 0.0892\n",
            "Epoch 236/300\n",
            "19/19 [==============================] - 0s 1ms/step - loss: 0.0831\n",
            "Epoch 237/300\n",
            "19/19 [==============================] - 0s 1ms/step - loss: 0.0858\n",
            "Epoch 238/300\n",
            "19/19 [==============================] - 0s 1ms/step - loss: 0.0828\n",
            "Epoch 239/300\n",
            "19/19 [==============================] - 0s 1ms/step - loss: 0.0772\n",
            "Epoch 240/300\n",
            "19/19 [==============================] - 0s 1ms/step - loss: 0.0899\n",
            "Epoch 241/300\n",
            "19/19 [==============================] - 0s 1ms/step - loss: 0.0765\n",
            "Epoch 242/300\n",
            "19/19 [==============================] - 0s 1ms/step - loss: 0.0905\n",
            "Epoch 243/300\n",
            "19/19 [==============================] - 0s 1ms/step - loss: 0.0885\n",
            "Epoch 244/300\n",
            "19/19 [==============================] - 0s 1ms/step - loss: 0.0811\n",
            "Epoch 245/300\n",
            "19/19 [==============================] - 0s 1ms/step - loss: 0.0945\n",
            "Epoch 246/300\n",
            "19/19 [==============================] - 0s 1ms/step - loss: 0.0793\n",
            "Epoch 247/300\n",
            "19/19 [==============================] - 0s 1ms/step - loss: 0.0832\n",
            "Epoch 248/300\n",
            "19/19 [==============================] - 0s 1ms/step - loss: 0.0765\n",
            "Epoch 249/300\n",
            "19/19 [==============================] - 0s 2ms/step - loss: 0.0862\n",
            "Epoch 250/300\n",
            "19/19 [==============================] - 0s 1ms/step - loss: 0.0871\n",
            "Epoch 251/300\n",
            "19/19 [==============================] - 0s 1ms/step - loss: 0.0933\n",
            "Epoch 252/300\n",
            "19/19 [==============================] - 0s 1ms/step - loss: 0.0827\n",
            "Epoch 253/300\n",
            "19/19 [==============================] - 0s 1ms/step - loss: 0.0824\n",
            "Epoch 254/300\n",
            "19/19 [==============================] - 0s 1ms/step - loss: 0.0892\n",
            "Epoch 255/300\n",
            "19/19 [==============================] - 0s 2ms/step - loss: 0.0868\n",
            "Epoch 256/300\n",
            "19/19 [==============================] - 0s 1ms/step - loss: 0.0881\n",
            "Epoch 257/300\n",
            "19/19 [==============================] - 0s 2ms/step - loss: 0.0799\n",
            "Epoch 258/300\n",
            "19/19 [==============================] - 0s 1ms/step - loss: 0.0890\n",
            "Epoch 259/300\n",
            "19/19 [==============================] - 0s 2ms/step - loss: 0.0844\n",
            "Epoch 260/300\n",
            "19/19 [==============================] - 0s 1ms/step - loss: 0.0913\n",
            "Epoch 261/300\n",
            "19/19 [==============================] - 0s 2ms/step - loss: 0.0871\n",
            "Epoch 262/300\n",
            "19/19 [==============================] - 0s 2ms/step - loss: 0.0801\n",
            "Epoch 263/300\n",
            "19/19 [==============================] - 0s 2ms/step - loss: 0.0839\n",
            "Epoch 264/300\n",
            "19/19 [==============================] - 0s 1ms/step - loss: 0.0816\n",
            "Epoch 265/300\n",
            "19/19 [==============================] - 0s 1ms/step - loss: 0.0856\n",
            "Epoch 266/300\n",
            "19/19 [==============================] - 0s 1ms/step - loss: 0.0852\n",
            "Epoch 267/300\n",
            "19/19 [==============================] - 0s 2ms/step - loss: 0.0911\n",
            "Epoch 268/300\n",
            "19/19 [==============================] - 0s 1ms/step - loss: 0.0817\n",
            "Epoch 269/300\n",
            "19/19 [==============================] - 0s 1ms/step - loss: 0.0848\n",
            "Epoch 270/300\n",
            "19/19 [==============================] - 0s 1ms/step - loss: 0.0895\n",
            "Epoch 271/300\n",
            "19/19 [==============================] - 0s 2ms/step - loss: 0.0836\n",
            "Epoch 272/300\n",
            "19/19 [==============================] - 0s 1ms/step - loss: 0.0850\n",
            "Epoch 273/300\n",
            "19/19 [==============================] - 0s 2ms/step - loss: 0.0910\n",
            "Epoch 274/300\n",
            "19/19 [==============================] - 0s 2ms/step - loss: 0.0826\n",
            "Epoch 275/300\n",
            "19/19 [==============================] - 0s 1ms/step - loss: 0.0844\n",
            "Epoch 276/300\n",
            "19/19 [==============================] - 0s 1ms/step - loss: 0.0862\n",
            "Epoch 277/300\n",
            "19/19 [==============================] - 0s 2ms/step - loss: 0.0837\n",
            "Epoch 278/300\n",
            "19/19 [==============================] - 0s 2ms/step - loss: 0.0797\n",
            "Epoch 279/300\n",
            "19/19 [==============================] - 0s 1ms/step - loss: 0.0837\n",
            "Epoch 280/300\n",
            "19/19 [==============================] - 0s 1ms/step - loss: 0.0721\n",
            "Epoch 281/300\n",
            "19/19 [==============================] - 0s 1ms/step - loss: 0.0791\n",
            "Epoch 282/300\n",
            "19/19 [==============================] - 0s 1ms/step - loss: 0.0845\n",
            "Epoch 283/300\n",
            "19/19 [==============================] - 0s 1ms/step - loss: 0.0881\n",
            "Epoch 284/300\n",
            "19/19 [==============================] - 0s 2ms/step - loss: 0.0819\n",
            "Epoch 285/300\n",
            "19/19 [==============================] - 0s 1ms/step - loss: 0.0818\n",
            "Epoch 286/300\n",
            "19/19 [==============================] - 0s 1ms/step - loss: 0.0897\n",
            "Epoch 287/300\n",
            "19/19 [==============================] - 0s 2ms/step - loss: 0.0853\n",
            "Epoch 288/300\n",
            "19/19 [==============================] - 0s 1ms/step - loss: 0.0830\n",
            "Epoch 289/300\n",
            "19/19 [==============================] - 0s 1ms/step - loss: 0.0820\n",
            "Epoch 290/300\n",
            "19/19 [==============================] - 0s 1ms/step - loss: 0.0889\n",
            "Epoch 291/300\n",
            "19/19 [==============================] - 0s 1ms/step - loss: 0.0822\n",
            "Epoch 292/300\n",
            "19/19 [==============================] - 0s 1ms/step - loss: 0.0881\n",
            "Epoch 293/300\n",
            "19/19 [==============================] - 0s 2ms/step - loss: 0.0858\n",
            "Epoch 294/300\n",
            "19/19 [==============================] - 0s 1ms/step - loss: 0.0889\n",
            "Epoch 295/300\n",
            "19/19 [==============================] - 0s 1ms/step - loss: 0.0913\n",
            "Epoch 296/300\n",
            "19/19 [==============================] - 0s 1ms/step - loss: 0.0918\n",
            "Epoch 297/300\n",
            "19/19 [==============================] - 0s 1ms/step - loss: 0.0827\n",
            "Epoch 298/300\n",
            "19/19 [==============================] - 0s 2ms/step - loss: 0.0813\n",
            "Epoch 299/300\n",
            "19/19 [==============================] - 0s 1ms/step - loss: 0.0915\n",
            "Epoch 300/300\n",
            "19/19 [==============================] - 0s 2ms/step - loss: 0.0770\n"
          ],
          "name": "stdout"
        },
        {
          "output_type": "execute_result",
          "data": {
            "text/plain": [
              "<tensorflow.python.keras.callbacks.History at 0x7f62895e9630>"
            ]
          },
          "metadata": {
            "tags": []
          },
          "execution_count": 32
        }
      ]
    },
    {
      "cell_type": "code",
      "metadata": {
        "id": "32GuOp9dbqEo"
      },
      "source": [
        "y_pred_test = ann.predict(X_test)\r\n",
        "y_pred_train = ann.predict(X_train)\r\n",
        "y_pred_total = ann.predict(X_total)\r\n",
        "#np.set_printoptions(precision=2)\r\n",
        "#print(np.concatenate((y_pred.reshape(len(y_pred),1), y_test.reshape(len(y_test),1)),1))\r\n",
        "y_pred_test = (y_pred_test>0.5)\r\n",
        "y_pred_train = (y_pred_train>0.5)\r\n",
        "y_pred_total = (y_pred_total>0.5)"
      ],
      "execution_count": null,
      "outputs": []
    },
    {
      "cell_type": "code",
      "metadata": {
        "colab": {
          "base_uri": "https://localhost:8080/"
        },
        "id": "TnsVyXhli2TN",
        "outputId": "1d8a86ff-1475-4537-a5eb-e082c4b0bd74"
      },
      "source": [
        "print ('Accuracy of model based on testing set is:', 100*accuracy_score(y_test, y_pred_test))\r\n",
        "print ('Accuracy of model based on training set is:', 100*accuracy_score(y_train, y_pred_train))\r\n",
        "print ('Accuracy of model based on total is:', 100*accuracy_score(y, y_pred_total))"
      ],
      "execution_count": null,
      "outputs": [
        {
          "output_type": "stream",
          "text": [
            "Accuracy of model based on testing set is: 71.75\n",
            "Accuracy of model based on training set is: 93.83333333333333\n",
            "Accuracy of model based on total is: 84.8\n"
          ],
          "name": "stdout"
        }
      ]
    },
    {
      "cell_type": "code",
      "metadata": {
        "colab": {
          "base_uri": "https://localhost:8080/",
          "height": 639
        },
        "id": "GlTC-07ZGnkm",
        "outputId": "6069bde9-6e54-45b3-d610-1c38db7a80a3"
      },
      "source": [
        "# Form confusion matrix as a DataFrame\r\n",
        "confusion_matrix_train_df = pd.DataFrame((confusion_matrix(y_train, y_pred_train)), ('Bad', 'Good'), ('Bad', 'Good'))\r\n",
        "# Plot confusion matrix\r\n",
        "plt.figure()\r\n",
        "heatmap = sns.heatmap(confusion_matrix_train_df, annot=True, annot_kws={'size': 14}, fmt='d', cmap='flare')\r\n",
        "heatmap.yaxis.set_ticklabels(heatmap.yaxis.get_ticklabels(), rotation=0, ha='right', fontsize=14)\r\n",
        "heatmap.xaxis.set_ticklabels(heatmap.yaxis.get_ticklabels(), rotation=0, ha='right', fontsize=14)\r\n",
        "\r\n",
        "plt.title('Confusion Matrix for Training Model\\n(ANN)', fontsize=18, color='darkblue')\r\n",
        "plt.ylabel('True abel', fontsize=14)\r\n",
        "plt.xlabel('Predicted label', fontsize=14)\r\n",
        "plt.show()\r\n",
        "\r\n",
        "confusion_matrix_testing_df = pd.DataFrame((confusion_matrix(y_test, y_pred_test)), ('Bad', 'Good'), ('Bad', 'Good'))\r\n",
        "# Plot confusion matrix\r\n",
        "plt.figure()\r\n",
        "heatmap = sns.heatmap(confusion_matrix_testing_df, annot=True, annot_kws={'size': 14}, fmt='d', cmap='YlGnBu')\r\n",
        "heatmap.yaxis.set_ticklabels(heatmap.yaxis.get_ticklabels(), rotation=0, ha='right', fontsize=14)\r\n",
        "heatmap.xaxis.set_ticklabels(heatmap.yaxis.get_ticklabels(), rotation=0, ha='right', fontsize=14)\r\n",
        "\r\n",
        "plt.title('Confusion Matrix for Testing Model\\n(ANN)', fontsize=18, color='darkblue')\r\n",
        "plt.ylabel('True abel', fontsize=14)\r\n",
        "plt.xlabel('Predicted label', fontsize=14)\r\n",
        "plt.show()\r\n"
      ],
      "execution_count": null,
      "outputs": [
        {
          "output_type": "display_data",
          "data": {
            "image/png": "[encoded data removed]",
            "text/plain": [
              "<Figure size 432x288 with 2 Axes>"
            ]
          },
          "metadata": {
            "tags": []
          }
        },
        {
          "output_type": "display_data",
          "data": {
            "image/png": "[encoded data removed]",
            "text/plain": [
              "<Figure size 432x288 with 2 Axes>"
            ]
          },
          "metadata": {
            "tags": []
          }
        }
      ]
    },
    {
      "cell_type": "code",
      "metadata": {
        "colab": {
          "base_uri": "https://localhost:8080/",
          "height": 106
        },
        "id": "_kcaLt0EIvLu",
        "outputId": "7ab17908-8827-4410-cb0d-30fbe4c79158"
      },
      "source": [
        "confusion_matrix_train_df"
      ],
      "execution_count": null,
      "outputs": [
        {
          "output_type": "execute_result",
          "data": {
            "text/html": [
              "<div>\n",
              "<style scoped>\n",
              "    .dataframe tbody tr th:only-of-type {\n",
              "        vertical-align: middle;\n",
              "    }\n",
              "\n",
              "    .dataframe tbody tr th {\n",
              "        vertical-align: top;\n",
              "    }\n",
              "\n",
              "    .dataframe thead th {\n",
              "        text-align: right;\n",
              "    }\n",
              "</style>\n",
              "<table border=\"1\" class=\"dataframe\">\n",
              "  <thead>\n",
              "    <tr style=\"text-align: right;\">\n",
              "      <th></th>\n",
              "      <th>Bad</th>\n",
              "      <th>Good</th>\n",
              "    </tr>\n",
              "  </thead>\n",
              "  <tbody>\n",
              "    <tr>\n",
              "      <th>Bad</th>\n",
              "      <td>143</td>\n",
              "      <td>35</td>\n",
              "    </tr>\n",
              "    <tr>\n",
              "      <th>Good</th>\n",
              "      <td>5</td>\n",
              "      <td>417</td>\n",
              "    </tr>\n",
              "  </tbody>\n",
              "</table>\n",
              "</div>"
            ],
            "text/plain": [
              "      Bad  Good\n",
              "Bad   143    35\n",
              "Good    5   417"
            ]
          },
          "metadata": {
            "tags": []
          },
          "execution_count": 34
        }
      ]
    },
    {
      "cell_type": "code",
      "metadata": {
        "colab": {
          "base_uri": "https://localhost:8080/",
          "height": 106
        },
        "id": "kPpURJxssq4g",
        "outputId": "28c8220e-8978-42a6-c485-6e15fa4f8a8e"
      },
      "source": [
        "confusion_matrix_testing_df"
      ],
      "execution_count": null,
      "outputs": [
        {
          "output_type": "execute_result",
          "data": {
            "text/html": [
              "<div>\n",
              "<style scoped>\n",
              "    .dataframe tbody tr th:only-of-type {\n",
              "        vertical-align: middle;\n",
              "    }\n",
              "\n",
              "    .dataframe tbody tr th {\n",
              "        vertical-align: top;\n",
              "    }\n",
              "\n",
              "    .dataframe thead th {\n",
              "        text-align: right;\n",
              "    }\n",
              "</style>\n",
              "<table border=\"1\" class=\"dataframe\">\n",
              "  <thead>\n",
              "    <tr style=\"text-align: right;\">\n",
              "      <th></th>\n",
              "      <th>Bad</th>\n",
              "      <th>Good</th>\n",
              "    </tr>\n",
              "  </thead>\n",
              "  <tbody>\n",
              "    <tr>\n",
              "      <th>Bad</th>\n",
              "      <td>46</td>\n",
              "      <td>76</td>\n",
              "    </tr>\n",
              "    <tr>\n",
              "      <th>Good</th>\n",
              "      <td>39</td>\n",
              "      <td>239</td>\n",
              "    </tr>\n",
              "  </tbody>\n",
              "</table>\n",
              "</div>"
            ],
            "text/plain": [
              "      Bad  Good\n",
              "Bad    46    76\n",
              "Good   39   239"
            ]
          },
          "metadata": {
            "tags": []
          },
          "execution_count": 35
        }
      ]
    }
  ]
}